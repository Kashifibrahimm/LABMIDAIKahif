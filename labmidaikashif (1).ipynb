{
  "nbformat": 4,
  "nbformat_minor": 0,
  "metadata": {
    "colab": {
      "provenance": []
    },
    "kernelspec": {
      "name": "python3",
      "display_name": "Python 3"
    },
    "language_info": {
      "name": "python"
    }
  },
  "cells": [
    {
      "cell_type": "markdown",
      "source": [
        "**activity 1**"
      ],
      "metadata": {
        "id": "uym85zN5UrJJ"
      }
    },
    {
      "cell_type": "code",
      "source": [
        "class node:\n",
        "  def __init__(self, state, parent, actions, totalcost):\n",
        "    self.state = state\n",
        "    self.parent = parent\n",
        "    self.actions = actions\n",
        "    self.totalcost = totalcost\n",
        "    \n",
        "graph = {'A': node('A', None, ['B','C','E'], None),\n",
        "         'B': node('B', None, ['A','D','E'], None),\n",
        "         'C': node('C', None, ['A','F','G'], None),\n",
        "         'D': node('D', None, ['B','E'], None),\n",
        "         'E': node('E', None, ['A','B','D'], None),\n",
        "         'F': node('F', None, ['C'], None),\n",
        "         'G': node('G', None, ['C'], None)\n",
        "        }\n"
      ],
      "metadata": {
        "id": "_hGPXXtrUxQw"
      },
      "execution_count": 8,
      "outputs": []
    },
    {
      "cell_type": "markdown",
      "source": [
        "**Activity 2**"
      ],
      "metadata": {
        "id": "7mQjF37eVSy0"
      }
    },
    {
      "cell_type": "code",
      "source": [
        "class node:\n",
        "  def __init__(self, state, parent, actions, totalcost):\n",
        "    self.state = state     \n",
        "    self.parent = parent     \n",
        "    self.actions = actions     \n",
        "    self.totalcost = totalcost\n",
        "\n",
        "def actionSequence(graph, initialstate, goalstate):\n",
        "  solution = [goalstate]\n",
        "  currentparent = graph[goalstate].parent\n",
        "  while currentparent != None:\n",
        "    solution.append(currentparent)\n",
        "    currentparent = graph[currentparent].parent\n",
        "  solution.reverse()\n",
        "  return solution\n",
        "\n",
        "def bfs(initialstate, goalstate):\n",
        "  graph = {\n",
        "    'A': node('A', None, ['B', 'C', 'E'], None),\n",
        "    'B': node('B', None, ['A', 'D', 'E'], None),\n",
        "    'C': node('C', None, ['A', 'F', 'G'], None),\n",
        "    'D': node('D', None, ['B', 'E'], None),\n",
        "    'E': node('E', None, ['A', 'B', 'D'], None),\n",
        "    'F': node('F', None, ['C'], None),\n",
        "    'G': node('G', None, ['C'], None)\n",
        "  }\n",
        "\n",
        "  frontier = [initialstate]\n",
        "  explored = []\n",
        "\n",
        "  while frontier:\n",
        "    currentnode = frontier.pop(0)\n",
        "    explored.append(currentnode)\n",
        "    for child in graph[currentnode].actions:\n",
        "      if child not in frontier and child not in explored:\n",
        "        graph[child].parent = currentnode\n",
        "        if graph[child].state == goalstate:\n",
        "          return actionSequence(graph, initialstate, goalstate)\n",
        "        frontier.append(child)\n",
        "\n",
        "  return None\n",
        "\n",
        "solution = bfs('D', 'C')\n",
        "print(solution)\n"
      ],
      "metadata": {
        "colab": {
          "base_uri": "https://localhost:8080/"
        },
        "id": "bbbQBV2fVunk",
        "outputId": "dbf8a9d3-b5e0-444d-dd8a-f74e144c91e5"
      },
      "execution_count": 9,
      "outputs": [
        {
          "output_type": "stream",
          "name": "stdout",
          "text": [
            "['D', 'B', 'A', 'C']\n"
          ]
        }
      ]
    },
    {
      "cell_type": "markdown",
      "source": [
        "**activity 3**"
      ],
      "metadata": {
        "id": "6Lez0O2EWV5O"
      }
    },
    {
      "cell_type": "code",
      "source": [
        "class node:\n",
        "  def __init__(self, state, parent, actions, totalcost):\n",
        "    self.state = state\n",
        "    self.parent = parent\n",
        "    self.actions = actions\n",
        "    self.totalcost = totalcost\n",
        "\n",
        "def actionSequence(graph, initialstate, goalstate):\n",
        "  solution = [goalstate]\n",
        "  currentparent = graph[goalstate].parent\n",
        "\n",
        "  while currentparent is not None:\n",
        "    solution.append(currentparent)\n",
        "    currentparent = graph[currentparent].parent\n",
        "\n",
        "  solution.reverse()\n",
        "  return solution\n",
        "\n",
        "def bfs(initialstate, goalstate):\n",
        "  graph = {\n",
        "    'A': node('A', None, ['B', 'C', 'E'], None),\n",
        "    'B': node('B', None, ['A', 'D', 'E'], None),\n",
        "    'C': node('C', None, ['A', 'F', 'G'], None),\n",
        "    'D': node('D', None, ['B', 'E'], None),\n",
        "    'E': node('E', None, ['A', 'B', 'D'], None),\n",
        "    'F': node('F', None, ['C'], None),\n",
        "    'G': node('G', None, ['C'], None)\n",
        "  }\n",
        "\n",
        "  frontier = [initialstate]\n",
        "  explored = []\n",
        "\n",
        "  while frontier:\n",
        "    currentnode = frontier.pop(0)\n",
        "    explored.append(currentnode)\n",
        "    for child in graph[currentnode].actions:\n",
        "      if child not in frontier and child not in explored:\n",
        "        graph[child].parent = currentnode\n",
        "        if graph[child].state == goalstate:\n",
        "          return actionSequence(graph, initialstate, goalstate)\n",
        "        frontier.append(child)\n",
        "\n",
        "  return None\n",
        "\n",
        "solution = bfs('D', 'C')\n",
        "print(solution)"
      ],
      "metadata": {
        "colab": {
          "base_uri": "https://localhost:8080/"
        },
        "id": "-OZkJjifWYXb",
        "outputId": "6b250fa7-2060-4bc9-9932-329d2ea2fc44"
      },
      "execution_count": 10,
      "outputs": [
        {
          "output_type": "stream",
          "name": "stdout",
          "text": [
            "['D', 'B', 'A', 'C']\n"
          ]
        }
      ]
    },
    {
      "cell_type": "markdown",
      "source": [
        "**activity 4**"
      ],
      "metadata": {
        "id": "72o8xbUCaUPe"
      }
    },
    {
      "cell_type": "code",
      "source": [
        "import heapq\n",
        "\n",
        "# Define the graph as a dictionary\n",
        "graph = {\n",
        "    'Arad': [('Zerind', 75), ('Timisoara', 118), ('Sibiu', 140)],\n",
        "    'Zerind': [('Oradea', 71), ('Arad', 75)],\n",
        "    'Oradea': [('Sibiu', 151), ('Zerind', 71)],\n",
        "    'Timisoara': [('Arad', 118), ('Lugoj', 111)],\n",
        "    'Lugoj': [('Timisoara', 111), ('Mehadia', 70)],\n",
        "    'Mehadia': [('Lugoj', 70), ('Drobeta', 75)],\n",
        "    'Drobeta': [('Mehadia', 75), ('Craiova', 120)],\n",
        "    'Sibiu': [('Arad', 140), ('Oradea', 151), ('Fagaras', 99), ('Rimnicu Vilcea', 80)],\n",
        "    'Fagaras': [('Sibiu', 99), ('Bucharest', 211)],\n",
        "    'Rimnicu Vilcea': [('Sibiu', 80), ('Craiova', 146), ('Pitesti', 97)],\n",
        "    'Craiova': [('Drobeta', 120), ('Rimnicu Vilcea', 146), ('Pitesti', 138)],\n",
        "    'Pitesti': [('Rimnicu Vilcea', 97), ('Craiova', 138), ('Bucharest', 101)],\n",
        "    'Bucharest': [('Fagaras', 211), ('Pitesti', 101)]\n",
        "}\n",
        "\n",
        "def uniform_cost_search(start, goal):\n",
        "    # Keep track of visited nodes and their distances from the start node\n",
        "    visited = {start: 0}\n",
        "    # Keep track of the nodes in the path from the start node to the current node\n",
        "    path = {start: [start]}\n",
        "    # Initialize the heap with the start node and its cost\n",
        "    heap = [(0, start)]\n",
        "    \n",
        "    while heap:\n",
        "        # Pop the node with the lowest cost from the heap\n",
        "        (cost, current) = heapq.heappop(heap)\n",
        "        \n",
        "        # If we have reached the goal node, return the path\n",
        "        if current == goal:\n",
        "            return path[current]\n",
        "        \n",
        "        # Loop through the neighboring nodes\n",
        "        for (neighbor, neighbor_cost) in graph[current]:\n",
        "            # Calculate the new cost to reach the neighboring node\n",
        "            new_cost = visited[current] + neighbor_cost\n",
        "            \n",
        "            # If the neighboring node hasn't been visited yet or the new cost is lower than the current cost\n",
        "            if neighbor not in visited or new_cost < visited[neighbor]:\n",
        "                # Update the visited dictionary and the path dictionary\n",
        "                visited[neighbor] = new_cost\n",
        "                path[neighbor] = path[current] + [neighbor]\n",
        "                # Add the neighboring node and its cost to the heap\n",
        "                heapq.heappush(heap, (new_cost, neighbor))\n",
        "                \n",
        "\n",
        "    return None\n",
        "\n",
        "\n",
        "start = 'Arad'\n",
        "goal = 'Bucharest'\n",
        "path = uniform_cost_search(start, goal)\n",
        "print(path)"
      ],
      "metadata": {
        "colab": {
          "base_uri": "https://localhost:8080/"
        },
        "id": "wk4sv0DlaXEp",
        "outputId": "34470469-8463-4183-bca5-dd0eef852519"
      },
      "execution_count": 11,
      "outputs": [
        {
          "output_type": "stream",
          "name": "stdout",
          "text": [
            "['Arad', 'Sibiu', 'Rimnicu Vilcea', 'Pitesti', 'Bucharest']\n"
          ]
        }
      ]
    },
    {
      "cell_type": "markdown",
      "source": [
        "Activity no 4"
      ],
      "metadata": {
        "id": "YYxUeyKZi_JU"
      }
    },
    {
      "cell_type": "code",
      "source": [
        "import math\n",
        "\n",
        "def findmin(frontier):\n",
        "    minV = math.inf\n",
        "    node = ''\n",
        "    for i in frontier:\n",
        "        if minV > frontier[i][1]:\n",
        "            minV = frontier[i][1]\n",
        "            node = i\n",
        "    return node\n",
        "\n",
        "def actionSequence(graph, initialstate, goalstate):\n",
        "    solution = [goalstate]\n",
        "    currentparent = graph[goalstate].parent\n",
        "    while currentparent is not None:\n",
        "        solution.append(currentparent)\n",
        "        currentparent = graph[currentparent].parent\n",
        "    solution.reverse()\n",
        "    return solution\n",
        "\n",
        "class node:\n",
        "    def __init__(self, state, parent, actions, totalcost):\n",
        "        self.state = state\n",
        "        self.parent = parent\n",
        "        self.actions = actions\n",
        "        self.totalcost = totalcost\n",
        "\n",
        "def UCS(initialstate, goalstate):\n",
        "    graph = {\n",
        "        'A': node('A', None, [('B', 6), ('C', 9), ('E', 1)], 0),\n",
        "        'B': node('B', None, [('A', 6), ('D', 3), ('E', 4)], 0),\n",
        "        'C': node('C', None, [('A', 9), ('F', 2), ('G', 3)], 0),\n",
        "        'D': node('D', None, [('B', 3), ('E', 5), ('F', 7)], 0),\n",
        "        'E': node('E', None, [('A', 1), ('B', 4), ('D', 5), ('F', 6)], 0),\n",
        "        'F': node('F', None, [('C', 2), ('E', 6), ('D', 7)], 0),\n",
        "        'G': node('G', None, [('C', 3)], 0)\n",
        "    }\n",
        "    frontier = dict()\n",
        "    frontier[initialstate] = (None, 0)\n",
        "    explored = []\n",
        "\n",
        "    while frontier:\n",
        "        currentnode = findmin(frontier)\n",
        "        del frontier[currentnode]\n",
        "        if graph[currentnode].state == goalstate:\n",
        "            return actionSequence(graph, initialstate, goalstate)\n",
        "        explored.append(currentnode)\n",
        "        for child in graph[currentnode].actions:\n",
        "            currentcost = child[1] + graph[currentnode].totalcost\n",
        "            if child[0] not in frontier and child[0] not in explored:\n",
        "                graph[child[0]].parent = currentnode\n",
        "                graph[child[0]].totalcost = currentcost\n",
        "                frontier[child[0]] = (graph[child[0]].parent, graph[child[0]].totalcost)\n",
        "            elif child[0] in frontier:\n",
        "                if frontier[child[0]][1] > currentcost:\n",
        "                    graph[child[0]].parent = currentnode\n",
        "                    graph[child[0]].totalcost = currentcost\n",
        "                    frontier[child[0]] = (graph[child[0]].parent, graph[child[0]].totalcost)\n",
        "\n",
        "solution = UCS('C', 'B')\n",
        "print(solution)"
      ],
      "metadata": {
        "colab": {
          "base_uri": "https://localhost:8080/"
        },
        "id": "4irT8RETi9zw",
        "outputId": "ace66a10-1d91-40da-bad7-8b0102f6a305"
      },
      "execution_count": 14,
      "outputs": [
        {
          "output_type": "stream",
          "name": "stdout",
          "text": [
            "['C', 'F', 'E', 'B']\n"
          ]
        }
      ]
    },
    {
      "cell_type": "code",
      "source": [],
      "metadata": {
        "id": "6e1gzeadjP8T"
      },
      "execution_count": null,
      "outputs": []
    }
  ]
}